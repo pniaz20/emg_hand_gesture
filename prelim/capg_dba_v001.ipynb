{
 "cells": [
  {
   "attachments": {},
   "cell_type": "markdown",
   "metadata": {},
   "source": [
    "# Gesture Recognition with CAPG DBA dataset\n",
    "\n",
    "In this preliminary effort, we will try to perform hand gesture recognition from CAPG DBA dataset.\n",
    "\n",
    "In this version:\n",
    "\n",
    "- EMG data is normalized with the recorded MVC data\n",
    "- EMG data (already preprocessed) **will not be processed** further.\n",
    "- There is **no feature engineering**; raw EMG data will be used.\n",
    "- **1D CNN** with simple architecture will be used.\n",
    "- **Training data:** 5 trials per subject per gesture\n",
    "- **Test data:** 5 trials per subject per gesture\n",
    "\n",
    "**NOTE** This code has been tested with:\n",
    "```\n",
    "    numpy version:        1.23.5\n",
    "    scipy version:        1.9.3\n",
    "    sklearn version:      1.2.0\n",
    "    seaborn version:      0.12.1\n",
    "    pandas version:       1.5.2\n",
    "    torch version:        1.12.1+cu113\n",
    "    matplotlib version:   3.6.2\n",
    "    CUDA version:         11.2\n",
    "    cuDNN version:        8.1.0\n",
    "```"
   ]
  },
  {
   "attachments": {},
   "cell_type": "markdown",
   "metadata": {},
   "source": [
    "## 1- Preliminaries"
   ]
  },
  {
   "attachments": {},
   "cell_type": "markdown",
   "metadata": {},
   "source": [
    "### Imports"
   ]
  },
  {
   "cell_type": "code",
   "execution_count": 20,
   "metadata": {},
   "outputs": [
    {
     "name": "stdout",
     "output_type": "stream",
     "text": [
      "Current Working Directory is:  d:\\ACADEMICS\\2022_Fall\\comp541-441\\comp541-project\\prelim\n",
      "numpy version:        1.23.5\n",
      "scipy version:        1.9.3\n",
      "sklearn version:      1.2.0\n",
      "seaborn version:      0.12.1\n",
      "pandas version:       1.5.2\n",
      "torch version:        1.12.1+cu113\n",
      "matplotlib version:   3.6.2\n",
      "Checking to see if PyTorch recognizes GPU...\n",
      "True\n"
     ]
    }
   ],
   "source": [
    "import sys, os\n",
    "direc = os.getcwd()\n",
    "print(\"Current Working Directory is: \", direc)\n",
    "KUACC = False\n",
    "if \"scratch\" in direc: # We are using the cluster\n",
    "    KUACC = True\n",
    "    homedir = os.path.expanduser(\"~\")\n",
    "    os.chdir(os.path.join(homedir,\"REPO/comp541-project/\"))\n",
    "    direc = os.getcwd()\n",
    "    print(\"Current Working Directory is now: \", direc)\n",
    "sys.path.append(\"../src/\")\n",
    "sys.path.append(\"../data/\")\n",
    "import torch\n",
    "from datasets_torch import *\n",
    "from models_torch import *\n",
    "from utils_torch import *\n",
    "from datetime import datetime\n",
    "import pandas as pd\n",
    "import numpy as np\n",
    "import scipy as sp\n",
    "import sklearn\n",
    "import seaborn as sns\n",
    "from sklearn.preprocessing import OneHotEncoder, StandardScaler, MinMaxScaler\n",
    "from sklearn.model_selection import train_test_split\n",
    "from sklearn.metrics import r2_score, classification_report, confusion_matrix, accuracy_score, f1_score\n",
    "import matplotlib\n",
    "import matplotlib.pyplot as plt\n",
    "from copy import deepcopy\n",
    "import statistics\n",
    "import json\n",
    "from IPython.display import display\n",
    "\n",
    "# Print versions\n",
    "print(\"numpy version:       \", np.__version__)\n",
    "print(\"scipy version:       \", sp.__version__)\n",
    "print(\"sklearn version:     \", sklearn.__version__)\n",
    "print(\"seaborn version:     \", sns.__version__)\n",
    "print(\"pandas version:      \", pd.__version__)\n",
    "print(\"torch version:       \", torch.__version__)\n",
    "print(\"matplotlib version:  \", matplotlib.__version__)\n",
    "\n",
    "\n",
    "# Checking to see if CUDA is available for us\n",
    "print(\"Checking to see if PyTorch recognizes GPU...\")\n",
    "print(torch.cuda.is_available())\n",
    "\n",
    "# Whether to use latex rendering in plots throughout the notebook\n",
    "USE_TEX = False\n",
    "FONT_SIZE = 12\n",
    "\n",
    "# Setting matplotlib plotting variables\n",
    "if USE_TEX:\n",
    "    plt.rcParams.update({\n",
    "        \"text.usetex\": True,\n",
    "        \"font.size\": FONT_SIZE,\n",
    "        \"font.family\": \"serif\",\n",
    "        \"font.serif\": [\"Computer Modern Roman\"]\n",
    "    })\n",
    "else:\n",
    "    plt.rcParams.update({\n",
    "        \"text.usetex\": False,\n",
    "        \"font.size\": FONT_SIZE,\n",
    "        \"font.family\": \"serif\",\n",
    "        \"font.serif\": [\"Times New Roman\"]\n",
    "    })\n",
    "\n",
    "# Do not plot figures inline (only useful for cluster)\n",
    "# %matplotlib"
   ]
  },
  {
   "attachments": {},
   "cell_type": "markdown",
   "metadata": {},
   "source": [
    "## 2- Hyperparameters and Settings"
   ]
  },
  {
   "attachments": {},
   "cell_type": "markdown",
   "metadata": {},
   "source": [
    "### General settings of the study"
   ]
  },
  {
   "cell_type": "code",
   "execution_count": 2,
   "metadata": {},
   "outputs": [],
   "source": [
    "study = {\n",
    "    'code':'capg_dba_v001',\n",
    "    'package':'torch',\n",
    "    'dataset':'capg',\n",
    "    'subdataset':'dba'\n",
    "}"
   ]
  },
  {
   "cell_type": "code",
   "execution_count": 3,
   "metadata": {},
   "outputs": [],
   "source": [
    "hparams = {\n",
    "    \"model_name\": autoname(\"capg_dba_v001\"),\n",
    "    # General hyperparameters\n",
    "    \"in_features\": 128,\n",
    "    \"out_features\": 1,\n",
    "    # Sequence hyperparameters\n",
    "    \"in_seq_len_sec\": 0.1,\n",
    "    \"out_seq_len_sec\": 0,\n",
    "    \"data_sampling_rate_Hz\": 1000.0,\n",
    "    \"data_downsampling\": 5,\n",
    "    \"sequence_downsampling\": 1,\n",
    "    \"in_seq_len\": 0,\n",
    "    \"out_seq_len\": 0,\n",
    "    \"validation_data\": [0.05,'trainset']\n",
    "}"
   ]
  },
  {
   "attachments": {},
   "cell_type": "markdown",
   "metadata": {},
   "source": [
    "## 3- Data Processing"
   ]
  },
  {
   "attachments": {},
   "cell_type": "markdown",
   "metadata": {},
   "source": [
    "### Load and concatenate data"
   ]
  },
  {
   "cell_type": "code",
   "execution_count": 4,
   "metadata": {},
   "outputs": [
    {
     "name": "stdout",
     "output_type": "stream",
     "text": [
      "Loading file:  dba_subj_1.parquet\n",
      "Loading file:  dba_subj_10.parquet\n",
      "Loading file:  dba_subj_11.parquet\n",
      "Loading file:  dba_subj_12.parquet\n",
      "Loading file:  dba_subj_13.parquet\n",
      "Loading file:  dba_subj_14.parquet\n",
      "Loading file:  dba_subj_15.parquet\n",
      "Loading file:  dba_subj_16.parquet\n",
      "Loading file:  dba_subj_17.parquet\n",
      "Loading file:  dba_subj_18.parquet\n",
      "Loading file:  dba_subj_2.parquet\n",
      "Loading file:  dba_subj_3.parquet\n",
      "Loading file:  dba_subj_4.parquet\n",
      "Loading file:  dba_subj_5.parquet\n",
      "Loading file:  dba_subj_6.parquet\n",
      "Loading file:  dba_subj_7.parquet\n",
      "Loading file:  dba_subj_8.parquet\n",
      "Loading file:  dba_subj_9.parquet\n",
      "dba_tot shape:  (1476000, 131)\n",
      "dba_mvc shape:  (36000, 131)\n",
      "dba shape:  (1440000, 131)\n",
      "columns: \n",
      "Index(['subject', 'gesture', 'trial', 'b_1_c_1', 'b_1_c_2', 'b_1_c_3',\n",
      "       'b_1_c_4', 'b_1_c_5', 'b_1_c_6', 'b_1_c_7',\n",
      "       ...\n",
      "       'b_8_c_7', 'b_8_c_8', 'b_8_c_9', 'b_8_c_10', 'b_8_c_11', 'b_8_c_12',\n",
      "       'b_8_c_13', 'b_8_c_14', 'b_8_c_15', 'b_8_c_16'],\n",
      "      dtype='object', length=131)\n"
     ]
    }
   ],
   "source": [
    "data_dir = \"../data/CAPG/parquet\"\n",
    "def load_single_capg_dataset(data_dir, db_str:str=\"dba\"):\n",
    "    data_lst = []\n",
    "    for i,file in enumerate(os.listdir(data_dir)):\n",
    "        if file.endswith(\".parquet\") and db_str in file:\n",
    "            print(\"Loading file: \", file)\n",
    "            data_lst.append(pd.read_parquet(os.path.join(data_dir, file)))\n",
    "    data = pd.concat(data_lst, axis=0, ignore_index=True)\n",
    "    return data\n",
    "dba_tot = load_single_capg_dataset(data_dir, db_str=\"dba\")\n",
    "dba_mvc = dba_tot.loc[dba_tot[\"gesture\"].isin([100, 101])]\n",
    "dba = dba_tot.loc[~dba_tot[\"gesture\"].isin([100, 101])]\n",
    "print(\"dba_tot shape: \", dba_tot.shape)\n",
    "print(\"dba_mvc shape: \", dba_mvc.shape)\n",
    "print(\"dba shape: \", dba.shape)\n",
    "print(\"columns: \")\n",
    "print(dba_tot.columns)"
   ]
  },
  {
   "attachments": {},
   "cell_type": "markdown",
   "metadata": {},
   "source": [
    "### Normalize EMG Data\n",
    "\n",
    "Here the recorded MVC values will be used for normalizaing EMG data"
   ]
  },
  {
   "cell_type": "code",
   "execution_count": 5,
   "metadata": {},
   "outputs": [
    {
     "name": "stderr",
     "output_type": "stream",
     "text": [
      "C:\\Users\\pouya\\AppData\\Local\\Temp\\ipykernel_5300\\1353078018.py:8: SettingWithCopyWarning: \n",
      "A value is trying to be set on a copy of a slice from a DataFrame.\n",
      "Try using .loc[row_indexer,col_indexer] = value instead\n",
      "\n",
      "See the caveats in the documentation: https://pandas.pydata.org/pandas-docs/stable/user_guide/indexing.html#returning-a-view-versus-a-copy\n",
      "  dba.iloc[:,3:] = dba.iloc[:,3:].div(max_mvc, axis=1)\n"
     ]
    }
   ],
   "source": [
    "max_mvc = dba_mvc.iloc[:,3:].max(axis=0)\n",
    "del dba_mvc\n",
    "# print(\"max_mvc for 5 first channels: \")\n",
    "# print(max_mvc[:5])\n",
    "# print(\"shape of max_mvc: \", max_mvc.shape)\n",
    "# print(\"max of dba before normalization: (first five)\")\n",
    "# print(dba.iloc[:,3:].max(axis=0)[:5])\n",
    "dba.iloc[:,3:] = dba.iloc[:,3:].div(max_mvc, axis=1)\n",
    "# print(\"max of dba_norm after normalization: \")\n",
    "# print(dba_norm.iloc[:,3:].max(axis=0)[:5])"
   ]
  },
  {
   "attachments": {},
   "cell_type": "markdown",
   "metadata": {},
   "source": [
    "### Generate tabulated data (and update hyperparameters accordingly)"
   ]
  },
  {
   "cell_type": "code",
   "execution_count": 6,
   "metadata": {},
   "outputs": [
    {
     "name": "stdout",
     "output_type": "stream",
     "text": [
      "# subjects:    18\n",
      "# conditions:  8\n",
      "# trials:      10\n",
      "\n",
      "\n",
      "subjects used for testing:    []\n",
      "conditions used for testing:  []\n",
      "trials used for testing:      [6, 7, 8, 9, 10]\n",
      "\n",
      "\n",
      "Iterating through all trials ...\n",
      "\n",
      "Concatenating arrays and generating outputs ...\n",
      "Validation data source:   trainset\n",
      "Validation data portion:  0.05\n",
      "shape of x_test:  (144000, 32, 128)\n",
      "shape of y_test:  (144000, 1)\n",
      "x_train:  (136800, 32, 128)\n",
      "y_train:  (136800, 1)\n",
      "x_val:  (7200, 32, 128)\n",
      "y_val:  (7200, 1)\n",
      "x_test:  (144000, 32, 128)\n",
      "y_test:  (144000, 1)\n",
      "Constructing output dictionary ...\n",
      "Size of output dictionary in bytes:  4719806991\n",
      "Done.\n",
      "\n"
     ]
    }
   ],
   "source": [
    "input_cols = list(dba.iloc[:,3:].columns)\n",
    "data_processed = generate_cell_array(\n",
    "    dba, hparams,\n",
    "    subjects_column=\"subject\", conditions_column=\"gesture\", trials_column=\"trial\",\n",
    "    input_cols=input_cols, output_cols=[\"gesture\"], specific_conditions=None,\n",
    "    input_preprocessor=None,\n",
    "    output_preprocessor=None,\n",
    "    subjects_for_testing=None, \n",
    "    trials_for_testing=[5,6,7,8,9,10],\n",
    "    input_scaling=False, output_scaling=False, input_forward_facing=True, output_forward_facing=True, \n",
    "    data_squeezed=False,\n",
    "    input_towards_future=False, output_towards_future=False, \n",
    "    output_include_current_timestep=True,\n",
    "    use_filtered_data=False, #lpcutoff=CUTOFF, lporder=FILT_ORDER, lpsamplfreq=SAMPL_FREQ,\n",
    "    return_data_arrays_orig=False,\n",
    "    return_data_arrays_processed=False,\n",
    "    return_train_val_test_arrays=False,\n",
    "    return_train_val_test_data=True,\n",
    "    verbosity=1\n",
    ")\n",
    "\n",
    "# Get rid of things we won't need anymore\n",
    "del dba, dba_tot\n",
    "\n",
    "# Correct output feature count (this is buggy behavior and should be fixed)\n",
    "hparams['out_features'] = 8"
   ]
  },
  {
   "cell_type": "code",
   "execution_count": 7,
   "metadata": {},
   "outputs": [
    {
     "name": "stdout",
     "output_type": "stream",
     "text": [
      "x_train shape:  (136800, 128, 32)\n",
      "x_val shape:  (7200, 128, 32)\n",
      "x_test shape:  (144000, 128, 32)\n",
      "y_train shape:  (136800, 1)\n",
      "y_val shape:  (7200, 1)\n",
      "y_test shape:  (144000, 1)\n"
     ]
    }
   ],
   "source": [
    "# Inputs MUST have shape (batch_size, num_channels, seq_length) for 1D CNN (opposite of RNN)\n",
    "x_train = data_processed[\"x_train\"].transpose(0,2,1)\n",
    "x_val = data_processed[\"x_val\"].transpose(0,2,1)\n",
    "x_test = data_processed[\"x_test\"].transpose(0,2,1)\n",
    "# Outputs MUST be zero-indexed class labels\n",
    "y_train = data_processed[\"y_train\"] - 1\n",
    "y_val = data_processed[\"y_val\"] - 1\n",
    "y_test = data_processed[\"y_test\"] - 1\n",
    "del data_processed\n",
    "print(\"x_train shape: \", x_train.shape)\n",
    "print(\"x_val shape: \", x_val.shape)\n",
    "print(\"x_test shape: \", x_test.shape)\n",
    "print(\"y_train shape: \", y_train.shape)\n",
    "print(\"y_val shape: \", y_val.shape)\n",
    "print(\"y_test shape: \", y_test.shape)"
   ]
  },
  {
   "cell_type": "code",
   "execution_count": 8,
   "metadata": {},
   "outputs": [],
   "source": [
    "y_train = y_train.squeeze()\n",
    "y_val = y_val.squeeze()\n",
    "y_test = y_test.squeeze()"
   ]
  },
  {
   "cell_type": "code",
   "execution_count": 9,
   "metadata": {},
   "outputs": [],
   "source": [
    "train_set = TensorDataset(torch.from_numpy(x_train).float(), torch.from_numpy(y_train).long())\n",
    "val_set = TensorDataset(torch.from_numpy(x_val).float(), torch.from_numpy(y_val).long())\n",
    "test_set = TensorDataset(torch.from_numpy(x_test).float(), torch.from_numpy(y_test).long())"
   ]
  },
  {
   "attachments": {},
   "cell_type": "markdown",
   "metadata": {},
   "source": [
    "## 3- Training"
   ]
  },
  {
   "cell_type": "code",
   "execution_count": 10,
   "metadata": {},
   "outputs": [],
   "source": [
    "hparams.update({\n",
    "    # Convolution hyperparameters\n",
    "    \"num_conv_blocks\": 2,\n",
    "    \"conv_channels\": [32,64],\n",
    "    \"conv_kernel_size\": 3,\n",
    "    \"conv_padding\": \"valid\",\n",
    "    \"conv_activation\": \"relu\",\n",
    "    \"conv_activation_params\": None,\n",
    "    \"conv_batchnorm\": \"before\",\n",
    "    \"conv_batchnorm_params\": None,\n",
    "    \"conv_stride\": 1,\n",
    "    \"conv_dropout\": 0.1,\n",
    "    \"pool_padding\": 0,\n",
    "    \"pool_kernel_size\": 2,\n",
    "    \"pool_stride\": 1,\n",
    "    \"min_image_size\": 4,\n",
    "    # Dense hyperparameters\n",
    "    \"dense_width\": [64,32],\n",
    "    \"dense_depth\": 2,\n",
    "    \"dense_dropout\": 0.1,\n",
    "    \"dense_activation\": \"relu\",\n",
    "    \"dense_activation_params\": None,\n",
    "    \"output_activation\": None,\n",
    "    \"output_activation_params\": None,\n",
    "    \"dense_batchnorm\": \"before\",\n",
    "    \"dense_batchnorm_params\": None,\n",
    "    # Training hyperparameters\n",
    "    \"l2_reg\": None,\n",
    "    \"batch_size\": 256,\n",
    "    \"epochs\": 40,\n",
    "    \"validation_tolerance_epochs\": 5,\n",
    "    \"learning_rate\": 0.01,\n",
    "    \"learning_rate_decay_gamma\": 0.85,\n",
    "    \"loss_function\": \"crossentropy\",\n",
    "    \"optimizer\": \"adam\",\n",
    "    \"optimizer_params\": None\n",
    "})\n",
    "\n",
    "study['hparams'] = hparams"
   ]
  },
  {
   "cell_type": "code",
   "execution_count": 11,
   "metadata": {},
   "outputs": [
    {
     "name": "stdout",
     "output_type": "stream",
     "text": [
      "Image2Dense1D(\n",
      "  (net): Sequential(\n",
      "    (0): Conv1d(128, 32, kernel_size=(3,), stride=(1,), padding=valid)\n",
      "    (1): BatchNorm1d(32, eps=1e-05, momentum=0.1, affine=True, track_running_stats=True)\n",
      "    (2): ReLU()\n",
      "    (3): MaxPool1d(kernel_size=2, stride=1, padding=0, dilation=1, ceil_mode=False)\n",
      "    (4): Dropout1d(p=0.1, inplace=False)\n",
      "    (5): Conv1d(32, 64, kernel_size=(3,), stride=(1,), padding=valid)\n",
      "    (6): BatchNorm1d(64, eps=1e-05, momentum=0.1, affine=True, track_running_stats=True)\n",
      "    (7): ReLU()\n",
      "    (8): MaxPool1d(kernel_size=2, stride=1, padding=0, dilation=1, ceil_mode=False)\n",
      "    (9): Dropout1d(p=0.1, inplace=False)\n",
      "    (10): Flatten(start_dim=1, end_dim=-1)\n",
      "    (11): Linear(in_features=1664, out_features=64, bias=True)\n",
      "    (12): BatchNorm1d(64, eps=1e-05, momentum=0.1, affine=True, track_running_stats=True)\n",
      "    (13): ReLU()\n",
      "    (14): Dropout(p=0.1, inplace=False)\n",
      "    (15): Linear(in_features=64, out_features=32, bias=True)\n",
      "    (16): BatchNorm1d(32, eps=1e-05, momentum=0.1, affine=True, track_running_stats=True)\n",
      "    (17): ReLU()\n",
      "    (18): Dropout(p=0.1, inplace=False)\n",
      "    (19): Linear(in_features=32, out_features=8, bias=True)\n",
      "  )\n",
      ")\n"
     ]
    }
   ],
   "source": [
    "model = Image2Dense1D(hparams)\n",
    "print(model)"
   ]
  },
  {
   "cell_type": "code",
   "execution_count": 12,
   "metadata": {},
   "outputs": [
    {
     "name": "stdout",
     "output_type": "stream",
     "text": [
      "Total number of data points:      144000\n",
      "Number of training data points:   136800\n",
      "Number of validation data points: 7200\n",
      "Number of training batches:    535\n",
      "Number of validation batches:  29\n",
      "Batch size:                    256\n",
      "Shape of training input from the dataloader:   torch.Size([256, 128, 32])\n",
      "Shape of training output from the dataloader:  torch.Size([256])\n",
      "Shape of validation input from the dataloader:   torch.Size([256, 128, 32])\n",
      "Shape of validation output from the dataloader:  torch.Size([256])\n",
      "Selected device:  cuda:0\n",
      "The learning rate has an exponential decay rate of 0.85000.\n",
      "Classification problem detected. We will look at accuracies.\n",
      "Shape of model outputs:      torch.Size([256, 8])\n",
      "Shape of class predictions:  torch.Size([256])\n",
      "Shape of targets:            torch.Size([256])\n",
      "Shape of model outputs:      torch.Size([256, 8])\n",
      "Shape of class predictions:  torch.Size([256])\n",
      "Shape of targets:            torch.Size([256])\n",
      "Loss: 1.1908 |Val Loss: 0.6711 |Acc: 0.5298 |Val Acc: 0.7733 |  7.797 s\n",
      "Epoch   2/ 40 [███████████████████████████████████████] Loss: 0.7435 |Val Loss: 0.4548 |Acc: 0.7262 |Val Acc: 0.8411 |  4.997 s\n",
      "Epoch   3/ 40 [███████████████████████████████████████] Loss: 0.6025 |Val Loss: 0.3100 |Acc: 0.7827 |Val Acc: 0.9018 |  4.878 s\n",
      "Epoch   4/ 40 [███████████████████████████████████████] Loss: 0.5111 |Val Loss: 0.2391 |Acc: 0.8194 |Val Acc: 0.9325 |  4.928 s\n",
      "Epoch   5/ 40 [███████████████████████████████████████] Loss: 0.4564 |Val Loss: 0.2060 |Acc: 0.8396 |Val Acc: 0.9351 |  4.821 s\n",
      "Epoch   6/ 40 [███████████████████████████████████████] Loss: 0.4143 |Val Loss: 0.1673 |Acc: 0.8568 |Val Acc: 0.9519 |  4.885 s\n",
      "Epoch   7/ 40 [███████████████████████████████████████] Loss: 0.3818 |Val Loss: 0.1489 |Acc: 0.8687 |Val Acc: 0.9608 |  4.827 s\n",
      "Epoch   8/ 40 [███████████████████████████████████████] Loss: 0.3527 |Val Loss: 0.1215 |Acc: 0.8793 |Val Acc: 0.9725 |  4.851 s\n",
      "Epoch   9/ 40 [███████████████████████████████████████] Loss: 0.3377 |Val Loss: 0.1261 |Acc: 0.8851 |Val Acc: 0.9694 |  4.799 s\n",
      "Epoch  10/ 40 [███████████████████████████████████████] Loss: 0.3177 |Val Loss: 0.0966 |Acc: 0.8929 |Val Acc: 0.9751 |  4.881 s\n",
      "Epoch  11/ 40 [███████████████████████████████████████] Loss: 0.3010 |Val Loss: 0.0935 |Acc: 0.8985 |Val Acc: 0.9749 |  4.849 s\n",
      "Epoch  12/ 40 [███████████████████████████████████████] Loss: 0.2945 |Val Loss: 0.0838 |Acc: 0.9011 |Val Acc: 0.9793 |  4.898 s\n",
      "Epoch  13/ 40 [███████████████████████████████████████] Loss: 0.2812 |Val Loss: 0.0747 |Acc: 0.9052 |Val Acc: 0.9807 |  4.868 s\n",
      "Epoch  14/ 40 [███████████████████████████████████████] Loss: 0.2719 |Val Loss: 0.0763 |Acc: 0.9088 |Val Acc: 0.9833 |  5.005 s\n",
      "Epoch  15/ 40 [███████████████████████████████████████] Loss: 0.2649 |Val Loss: 0.0710 |Acc: 0.9119 |Val Acc: 0.9843 |  4.907 s\n",
      "Epoch  16/ 40 [███████████████████████████████████████] Loss: 0.2556 |Val Loss: 0.0684 |Acc: 0.9148 |Val Acc: 0.9856 |  4.851 s\n",
      "Epoch  17/ 40 [███████████████████████████████████████] Loss: 0.2564 |Val Loss: 0.0720 |Acc: 0.9146 |Val Acc: 0.9828 |  4.899 s\n",
      "Epoch  18/ 40 [███████████████████████████████████████] Loss: 0.2510 |Val Loss: 0.0622 |Acc: 0.9158 |Val Acc: 0.9858 |  4.971 s\n",
      "Epoch  19/ 40 [███████████████████████████████████████] Loss: 0.2437 |Val Loss: 0.0606 |Acc: 0.9188 |Val Acc: 0.9856 |  5.009 s\n",
      "Epoch  20/ 40 [███████████████████████████████████████] Loss: 0.2463 |Val Loss: 0.0598 |Acc: 0.9189 |Val Acc: 0.9856 |  5.045 s\n",
      "Epoch  21/ 40 [███████████████████████████████████████] Loss: 0.2384 |Val Loss: 0.0568 |Acc: 0.9211 |Val Acc: 0.9865 |  5.006 s\n",
      "Epoch  22/ 40 [███████████████████████████████████████] Loss: 0.2379 |Val Loss: 0.0559 |Acc: 0.9207 |Val Acc: 0.9879 |  4.955 s\n",
      "Epoch  23/ 40 [███████████████████████████████████████] Loss: 0.2363 |Val Loss: 0.0656 |Acc: 0.9228 |Val Acc: 0.9879 |  5.173 s\n",
      "Epoch  24/ 40 [███████████████████████████████████████] Loss: 0.2342 |Val Loss: 0.0569 |Acc: 0.9224 |Val Acc: 0.9871 |  5.025 s\n",
      "Epoch  25/ 40 [███████████████████████████████████████] Loss: 0.2298 |Val Loss: 0.0561 |Acc: 0.9239 |Val Acc: 0.9868 |  4.980 s\n",
      "Epoch  26/ 40 [███████████████████████████████████████] Loss: 0.2340 |Val Loss: 0.0566 |Acc: 0.9223 |Val Acc: 0.9874 |  4.956 s\n",
      "Epoch  27/ 40 [███████████████████████████████████████] Loss: 0.2309 |Val Loss: 0.0613 |Acc: 0.9239 |Val Acc: 0.9869 |  4.966 s\n",
      "Epoch  28/ 40 [███████████████████████████████████████] Loss: 0.2295 |Val Loss: 0.0560 |Acc: 0.9244 |Val Acc: 0.9882 |  4.923 s\n",
      "Validation loss not improved for more than 6 epochs.\n",
      "Early stopping criterion with validation loss has been reached. Stopping training at 27 epochs...\n",
      "Finished Training.\n",
      "Training process took 140.95 seconds.\n",
      "Done training.\n"
     ]
    }
   ],
   "source": [
    "history = model.train_model([train_set, val_set], verbose=2, script_before_save=False, saveto=None)"
   ]
  },
  {
   "cell_type": "code",
   "execution_count": 13,
   "metadata": {},
   "outputs": [],
   "source": [
    "study['training_history'] = history\n",
    "json.dump(study, open(make_path(\"../results/\"+hparams[\"model_name\"]+\"/study.json\"), \"w\"), indent=4)"
   ]
  },
  {
   "cell_type": "code",
   "execution_count": 26,
   "metadata": {},
   "outputs": [
    {
     "data": {
      "image/png": "[encoded data removed]",
      "text/plain": [
       "<Figure size 400x400 with 2 Axes>"
      ]
     },
     "metadata": {},
     "output_type": "display_data"
    }
   ],
   "source": [
    "# Plot training history\n",
    "plt.figure(figsize=(4,4), dpi=100)\n",
    "plt.subplot(2,1,1)\n",
    "plt.grid(True)\n",
    "plt.plot(history[\"training_loss\"], label=\"train\")\n",
    "plt.plot(history[\"validation_loss\"], label=\"val\")\n",
    "# plt.xlabel(\"Epoch\")\n",
    "plt.ylabel(\"Loss\")\n",
    "plt.legend(loc=\"upper right\")\n",
    "plt.subplot(2,1,2)\n",
    "plt.grid(True)\n",
    "plt.plot(history[\"training_metrics\"], label=\"train\")\n",
    "plt.plot(history[\"validation_metrics\"], label=\"val\")\n",
    "plt.xlabel(\"Epoch\")\n",
    "plt.ylabel(\"Accuracy\")\n",
    "# plt.legend(loc=\"lower right\")\n",
    "plt.subplots_adjust(\n",
    "    hspace=0.35\n",
    ")\n",
    "\n",
    "plt.savefig(make_path(\"../results/\"+hparams['model_name']+\"/training_history.png\"), dpi=300)"
   ]
  }
 ],
 "metadata": {
  "kernelspec": {
   "display_name": "tf",
   "language": "python",
   "name": "python3"
  },
  "language_info": {
   "codemirror_mode": {
    "name": "ipython",
    "version": 3
   },
   "file_extension": ".py",
   "mimetype": "text/x-python",
   "name": "python",
   "nbconvert_exporter": "python",
   "pygments_lexer": "ipython3",
   "version": "3.9.15 | packaged by conda-forge | (main, Nov 22 2022, 08:41:22) [MSC v.1929 64 bit (AMD64)]"
  },
  "orig_nbformat": 4,
  "vscode": {
   "interpreter": {
    "hash": "a9063ff2262220159f9d0422687c0477cf7937962d72300ed35684f58e95be43"
   }
  }
 },
 "nbformat": 4,
 "nbformat_minor": 2
}
