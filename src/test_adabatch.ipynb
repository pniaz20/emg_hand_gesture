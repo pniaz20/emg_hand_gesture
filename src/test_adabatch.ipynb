{
 "cells": [
  {
   "cell_type": "code",
   "execution_count": 1,
   "metadata": {},
   "outputs": [],
   "source": [
    "import torch\n",
    "import torch.nn as nn\n",
    "import numpy as np"
   ]
  },
  {
   "cell_type": "code",
   "execution_count": 2,
   "metadata": {},
   "outputs": [
    {
     "name": "stdout",
     "output_type": "stream",
     "text": [
      "tensor([[1.],\n",
      "        [2.],\n",
      "        [3.],\n",
      "        [4.],\n",
      "        [5.]])\n",
      "tensor([[10.],\n",
      "        [20.],\n",
      "        [30.],\n",
      "        [40.],\n",
      "        [50.]])\n"
     ]
    }
   ],
   "source": [
    "x1 = torch.tensor([1,2,3,4,5], dtype=torch.float32, requires_grad=False).reshape(-1,1)\n",
    "x2 = x1 * 10\n",
    "print(x1)\n",
    "print(x2)"
   ]
  },
  {
   "cell_type": "code",
   "execution_count": 22,
   "metadata": {},
   "outputs": [],
   "source": [
    "model = nn.BatchNorm1d(1)\n",
    "# for module in model.modules():\n",
    "#     if isinstance(module, nn.BatchNorm1d):\n",
    "#         print(\"found batchnorm instance.\")\n",
    "#         module.track_running_stats = False\n",
    "\n",
    "# model.eval()"
   ]
  },
  {
   "cell_type": "code",
   "execution_count": 17,
   "metadata": {},
   "outputs": [
    {
     "name": "stdout",
     "output_type": "stream",
     "text": [
      "tensor([[-1.4142],\n",
      "        [-0.7071],\n",
      "        [ 0.0000],\n",
      "        [ 0.7071],\n",
      "        [ 1.4142]], grad_fn=<NativeBatchNormBackward0>)\n",
      "tensor([3.])\n",
      "tensor([25.9000])\n"
     ]
    }
   ],
   "source": [
    "y2 = model(x2)\n",
    "print(y2)\n",
    "print(next(iter(model.modules())).running_mean)\n",
    "print(next(iter(model.modules())).running_var)"
   ]
  },
  {
   "cell_type": "code",
   "execution_count": 23,
   "metadata": {},
   "outputs": [
    {
     "name": "stdout",
     "output_type": "stream",
     "text": [
      "tensor([[-1.4142],\n",
      "        [-0.7071],\n",
      "        [ 0.0000],\n",
      "        [ 0.7071],\n",
      "        [ 1.4142]], grad_fn=<NativeBatchNormBackward0>)\n",
      "tensor([0.3000])\n",
      "tensor([1.1500])\n",
      "tensor([[-1.4142],\n",
      "        [-0.7071],\n",
      "        [ 0.0000],\n",
      "        [ 0.7071],\n",
      "        [ 1.4142]], grad_fn=<NativeBatchNormBackward0>)\n",
      "tensor([3.])\n",
      "tensor([25.9000])\n"
     ]
    }
   ],
   "source": [
    "y1 = model(x1)\n",
    "print(y1)\n",
    "print(next(iter(model.modules())).running_mean)\n",
    "print(next(iter(model.modules())).running_var)\n",
    "\n",
    "# model.eval()\n",
    "\n",
    "for module in model.modules():\n",
    "    if isinstance(module, nn.BatchNorm1d):\n",
    "        # print(\"found batchnorm instance.\")\n",
    "        # module.track_running_stats = False\n",
    "        module.reset_running_stats()\n",
    "    else:\n",
    "        for param in module.parameters():\n",
    "            param.requires_grad_(False)\n",
    "        module.eval()\n",
    "\n",
    "y2 = model(x2)\n",
    "print(y2)\n",
    "print(next(iter(model.modules())).running_mean)\n",
    "print(next(iter(model.modules())).running_var)"
   ]
  },
  {
   "cell_type": "code",
   "execution_count": null,
   "metadata": {},
   "outputs": [],
   "source": [
    "print(next(iter(model.modules())).running_var)"
   ]
  },
  {
   "cell_type": "code",
   "execution_count": null,
   "metadata": {},
   "outputs": [],
   "source": []
  },
  {
   "cell_type": "code",
   "execution_count": null,
   "metadata": {},
   "outputs": [],
   "source": [
    "for module in model.modules():\n",
    "    if isinstance(module, nn.BatchNorm1d):\n",
    "        module.track_running_stats = False\n",
    "    else:\n",
    "        for param in module.parameters():\n",
    "            param.requires_grad = False\n",
    "        module.eval()"
   ]
  },
  {
   "cell_type": "code",
   "execution_count": null,
   "metadata": {},
   "outputs": [],
   "source": [
    "y2 = model(x2)\n",
    "print(y2)\n",
    "print(next(iter(model.modules())).running_mean)"
   ]
  }
 ],
 "metadata": {
  "kernelspec": {
   "display_name": "tf",
   "language": "python",
   "name": "python3"
  },
  "language_info": {
   "codemirror_mode": {
    "name": "ipython",
    "version": 3
   },
   "file_extension": ".py",
   "mimetype": "text/x-python",
   "name": "python",
   "nbconvert_exporter": "python",
   "pygments_lexer": "ipython3",
   "version": "3.9.15"
  },
  "orig_nbformat": 4,
  "vscode": {
   "interpreter": {
    "hash": "a9063ff2262220159f9d0422687c0477cf7937962d72300ed35684f58e95be43"
   }
  }
 },
 "nbformat": 4,
 "nbformat_minor": 2
}
