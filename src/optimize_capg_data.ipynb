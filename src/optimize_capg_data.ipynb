{
 "cells": [
  {
   "attachments": {},
   "cell_type": "markdown",
   "metadata": {},
   "source": [
    "# Optimizing and parquetizing CAPG data\n",
    "\n",
    "Here we will optimize the CAPG data CSV files after generating them per-subject.\n",
    "\n",
    "***NOTE:*** To use this notebook, apart from pandas, you also need to install `fastparquet` and `pyarrow` using pip or conda."
   ]
  },
  {
   "cell_type": "code",
   "execution_count": 1,
   "metadata": {},
   "outputs": [],
   "source": [
    "import os\n",
    "import pandas as pd"
   ]
  },
  {
   "cell_type": "code",
   "execution_count": 2,
   "metadata": {},
   "outputs": [],
   "source": [
    "# Uint8 columns\n",
    "uint8_cols = ['subject','gesture','trial']"
   ]
  },
  {
   "cell_type": "code",
   "execution_count": 3,
   "metadata": {},
   "outputs": [
    {
     "name": "stdout",
     "output_type": "stream",
     "text": [
      "Optimizing ../data/CAPG/dba/dba-preprocessed-001\n",
      "Optimizing ../data/CAPG/dba/dba-preprocessed-002\n",
      "Optimizing ../data/CAPG/dba/dba-preprocessed-003\n",
      "Optimizing ../data/CAPG/dba/dba-preprocessed-004\n",
      "Optimizing ../data/CAPG/dba/dba-preprocessed-005\n",
      "Optimizing ../data/CAPG/dba/dba-preprocessed-006\n",
      "Optimizing ../data/CAPG/dba/dba-preprocessed-007\n",
      "Optimizing ../data/CAPG/dba/dba-preprocessed-008\n",
      "Optimizing ../data/CAPG/dba/dba-preprocessed-009\n",
      "Optimizing ../data/CAPG/dba/dba-preprocessed-010\n",
      "Optimizing ../data/CAPG/dba/dba-preprocessed-011\n",
      "Optimizing ../data/CAPG/dba/dba-preprocessed-012\n",
      "Optimizing ../data/CAPG/dba/dba-preprocessed-013\n",
      "Optimizing ../data/CAPG/dba/dba-preprocessed-014\n",
      "Optimizing ../data/CAPG/dba/dba-preprocessed-015\n",
      "Optimizing ../data/CAPG/dba/dba-preprocessed-016\n",
      "Optimizing ../data/CAPG/dba/dba-preprocessed-017\n",
      "Optimizing ../data/CAPG/dba/dba-preprocessed-018\n",
      "Optimizing ../data/CAPG/dbb/dbb-preprocessed-001\n",
      "Optimizing ../data/CAPG/dbb/dbb-preprocessed-002\n",
      "Optimizing ../data/CAPG/dbb/dbb-preprocessed-003\n",
      "Optimizing ../data/CAPG/dbb/dbb-preprocessed-004\n",
      "Optimizing ../data/CAPG/dbb/dbb-preprocessed-005\n",
      "Optimizing ../data/CAPG/dbb/dbb-preprocessed-006\n",
      "Optimizing ../data/CAPG/dbb/dbb-preprocessed-007\n",
      "Optimizing ../data/CAPG/dbb/dbb-preprocessed-008\n",
      "Optimizing ../data/CAPG/dbb/dbb-preprocessed-009\n",
      "Optimizing ../data/CAPG/dbb/dbb-preprocessed-010\n",
      "Optimizing ../data/CAPG/dbb/dbb-preprocessed-011\n",
      "Optimizing ../data/CAPG/dbb/dbb-preprocessed-012\n",
      "Optimizing ../data/CAPG/dbb/dbb-preprocessed-013\n",
      "Optimizing ../data/CAPG/dbb/dbb-preprocessed-014\n",
      "Optimizing ../data/CAPG/dbb/dbb-preprocessed-015\n",
      "Optimizing ../data/CAPG/dbb/dbb-preprocessed-016\n",
      "Optimizing ../data/CAPG/dbb/dbb-preprocessed-017\n",
      "Optimizing ../data/CAPG/dbb/dbb-preprocessed-018\n",
      "Optimizing ../data/CAPG/dbb/dbb-preprocessed-019\n",
      "Optimizing ../data/CAPG/dbb/dbb-preprocessed-020\n",
      "Optimizing ../data/CAPG/dbc/dbc-preprocessed-001\n",
      "Optimizing ../data/CAPG/dbc/dbc-preprocessed-002\n",
      "Optimizing ../data/CAPG/dbc/dbc-preprocessed-003\n",
      "Optimizing ../data/CAPG/dbc/dbc-preprocessed-004\n",
      "Optimizing ../data/CAPG/dbc/dbc-preprocessed-005\n",
      "Optimizing ../data/CAPG/dbc/dbc-preprocessed-006\n",
      "Optimizing ../data/CAPG/dbc/dbc-preprocessed-007\n",
      "Optimizing ../data/CAPG/dbc/dbc-preprocessed-008\n",
      "Optimizing ../data/CAPG/dbc/dbc-preprocessed-009\n"
     ]
    }
   ],
   "source": [
    "homedir = \"../data/CAPG/\"\n",
    "db_str = ['dba','dbb','dbc']\n",
    "for s in db_str:\n",
    "    listdirs = os.listdir(homedir+s)\n",
    "    for dir in listdirs:\n",
    "        print(\"Optimizing \"+homedir+s+'/'+dir)\n",
    "        # Get file system data\n",
    "        csvfiles = os.listdir(homedir+s+'/'+dir)\n",
    "        csvfiles = [f for f in csvfiles if f.endswith('.csv')]\n",
    "        csvfile = csvfiles[0]\n",
    "        csvfileWOextension = homedir+s+'/'+dir+'/'+csvfile[:-4]\n",
    "        # Read data\n",
    "        df = pd.read_csv(homedir+s+'/'+dir+'/'+csvfile)\n",
    "        # Optimize columns\n",
    "        df[uint8_cols] = df[uint8_cols].astype('uint8')\n",
    "        rest_cols = [c for c in df.columns if c not in uint8_cols]\n",
    "        df[rest_cols] = df[rest_cols].astype('float32')\n",
    "        # Save parquet format (comment to deactivate)\n",
    "        df.to_parquet(csvfileWOextension+\".parquet\", compression='gzip')\n",
    "        # Save CSV format but lighter (comment to deactivate)\n",
    "        # df.to_csv(csvfileWOextension+\"_light.csv\", index=False, header=True, float_format='%.6f')\n",
    "        os.remove(homedir+s+'/'+dir+'/'+csvfile)"
   ]
  },
  {
   "cell_type": "code",
   "execution_count": null,
   "metadata": {},
   "outputs": [],
   "source": [
    "general_info = pd.read_csv(\"../data/CAPG/general_info.csv\")\n",
    "general_info.astype('uint8').to_csv(\"../data/CAPG/general_info.csv\", index=False, header=True)"
   ]
  }
 ],
 "metadata": {
  "kernelspec": {
   "display_name": "Python 3.9.12 ('tf')",
   "language": "python",
   "name": "python3"
  },
  "language_info": {
   "codemirror_mode": {
    "name": "ipython",
    "version": 3
   },
   "file_extension": ".py",
   "mimetype": "text/x-python",
   "name": "python",
   "nbconvert_exporter": "python",
   "pygments_lexer": "ipython3",
   "version": "3.9.15"
  },
  "orig_nbformat": 4,
  "vscode": {
   "interpreter": {
    "hash": "a9063ff2262220159f9d0422687c0477cf7937962d72300ed35684f58e95be43"
   }
  }
 },
 "nbformat": 4,
 "nbformat_minor": 2
}
