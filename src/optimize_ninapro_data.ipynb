{
 "cells": [
  {
   "attachments": {},
   "cell_type": "markdown",
   "metadata": {},
   "source": [
    "# Optimizing and parquetizing NinaPro data\n",
    "\n",
    "Here we will optimize the NinaPro data CSV files after generating them per-subject.\n",
    "\n",
    "***NOTE:*** To use this notebook, apart from pandas, you also need to install `fastparquet` and `pyarrow` using pip or conda."
   ]
  },
  {
   "cell_type": "code",
   "execution_count": 1,
   "metadata": {},
   "outputs": [],
   "source": [
    "import os\n",
    "import pandas as pd"
   ]
  },
  {
   "cell_type": "code",
   "execution_count": 2,
   "metadata": {},
   "outputs": [],
   "source": [
    "# Uint8 columns\n",
    "uint8_cols = ['subject','exercise','repetition','rerepetition','stimulus','restimulus']"
   ]
  },
  {
   "cell_type": "code",
   "execution_count": 3,
   "metadata": {},
   "outputs": [
    {
     "name": "stdout",
     "output_type": "stream",
     "text": [
      "Optimizing ../data/ninapro_db5//s1\n",
      "Optimizing ../data/ninapro_db5//s10\n",
      "Optimizing ../data/ninapro_db5//s2\n",
      "Optimizing ../data/ninapro_db5//s3\n",
      "Optimizing ../data/ninapro_db5//s4\n",
      "Optimizing ../data/ninapro_db5//s5\n",
      "Optimizing ../data/ninapro_db5//s6\n",
      "Optimizing ../data/ninapro_db5//s7\n",
      "Optimizing ../data/ninapro_db5//s8\n",
      "Optimizing ../data/ninapro_db5//s9\n"
     ]
    }
   ],
   "source": [
    "homedir = \"../data/ninapro_db5\"\n",
    "listdirs = os.listdir(homedir)\n",
    "for dir in listdirs:\n",
    "    print(\"Optimizing \"+homedir+'/'+dir)\n",
    "    # Get file system data\n",
    "    csvfiles = os.listdir(homedir+'/'+dir)\n",
    "    csvfiles = [f for f in csvfiles if f.endswith('.csv')]\n",
    "    csvfile = csvfiles[0]\n",
    "    csvfileWOextension = homedir+'/'+dir+'/'+csvfile[:-4]\n",
    "    # Read data\n",
    "    df = pd.read_csv(homedir+'/'+dir+'/'+csvfile)\n",
    "    # Optimize columns\n",
    "    df[uint8_cols] = df[uint8_cols].astype('uint8')\n",
    "    rest_cols = [c for c in df.columns if c not in uint8_cols]\n",
    "    df[rest_cols] = df[rest_cols].astype('float32')\n",
    "    # Save parquet format (comment to deactivate)\n",
    "    df.to_parquet(csvfileWOextension+\".parquet\", compression='gzip')\n",
    "    # Save CSV format but lighter (comment to deactivate)\n",
    "    # df.to_csv(csvfileWOextension+\"_light.csv\", index=False, header=True, float_format='%.6f')\n",
    "    os.remove(homedir+'/'+dir+'/'+csvfile)"
   ]
  }
 ],
 "metadata": {
  "kernelspec": {
   "display_name": "Python 3.9.12 ('tf')",
   "language": "python",
   "name": "python3"
  },
  "language_info": {
   "codemirror_mode": {
    "name": "ipython",
    "version": 3
   },
   "file_extension": ".py",
   "mimetype": "text/x-python",
   "name": "python",
   "nbconvert_exporter": "python",
   "pygments_lexer": "ipython3",
   "version": "3.9.15"
  },
  "orig_nbformat": 4,
  "vscode": {
   "interpreter": {
    "hash": "a9063ff2262220159f9d0422687c0477cf7937962d72300ed35684f58e95be43"
   }
  }
 },
 "nbformat": 4,
 "nbformat_minor": 2
}
